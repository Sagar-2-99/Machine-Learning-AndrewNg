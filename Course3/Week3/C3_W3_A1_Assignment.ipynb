{
 "cells": [
  {
   "cell_type": "markdown",
   "metadata": {},
   "source": [
    "# Deep Q-Learning - Lunar Lander\n",
    "\n",
    "In this assignment, you will train an agent to land a lunar lander safely on a landing pad on the surface of the moon.\n",
    "\n",
    "\n",
    "# Outline\n",
    "- [ 1 - Import Packages <img align=\"Right\" src=\"./images/lunar_lander.gif\" width = 60% >](#1)\n",
    "- [ 2 - Hyperparameters](#2)\n",
    "- [ 3 - The Lunar Lander Environment](#3)\n",
    "  - [ 3.1 Action Space](#3.1)\n",
    "  - [ 3.2 Observation Space](#3.2)\n",
    "  - [ 3.3 Rewards](#3.3)\n",
    "  - [ 3.4 Episode Termination](#3.4)\n",
    "- [ 4 - Load the Environment](#4)\n",
    "- [ 5 - Interacting with the Gym Environment](#5)\n",
    "    - [ 5.1 Exploring the Environment's Dynamics](#5.1)\n",
    "- [ 6 - Deep Q-Learning](#6)\n",
    "  - [ 6.1 Target Network](#6.1)\n",
    "    - [ Exercise 1](#ex01)\n",
    "  - [ 6.2 Experience Replay](#6.2)\n",
    "- [ 7 - Deep Q-Learning Algorithm with Experience Replay](#7)\n",
    "  - [ Exercise 2](#ex02)\n",
    "- [ 8 - Update the Network Weights](#8)\n",
    "- [ 9 - Train the Agent](#9)\n",
    "- [ 10 - See the Trained Agent In Action](#10)\n",
    "- [ 11 - Congratulations!](#11)\n",
    "- [ 12 - References](#12)\n"
   ]
  },
  {
   "cell_type": "markdown",
   "metadata": {},
   "source": [
    "_**NOTE:** To prevent errors from the autograder, you are not allowed to edit or delete non-graded cells in this lab. Please also refrain from adding any new cells. \n",
    "**Once you have passed this assignment** and want to experiment with any of the non-graded code, you may follow the instructions at the bottom of this notebook._"
   ]
  },
  {
   "cell_type": "markdown",
   "metadata": {},
   "source": [
    "<a name=\"1\"></a>\n",
    "## 1 - Import Packages\n",
    "\n",
    "We'll make use of the following packages:\n",
    "- `numpy` is a package for scientific computing in python.\n",
    "- `deque` will be our data structure for our memory buffer.\n",
    "- `namedtuple` will be used to store the experience tuples.\n",
    "- The `gym` toolkit is a collection of environments that can be used to test reinforcement learning algorithms. We should note that in this notebook we are using `gym` version `0.24.0`.\n",
    "- `PIL.Image` and `pyvirtualdisplay` are needed to render the Lunar Lander environment.\n",
    "- We will use several modules from the `tensorflow.keras` framework for building deep learning models.\n",
    "- `utils` is a module that contains helper functions for this assignment. You do not need to modify the code in this file.\n",
    "\n",
    "Run the cell below to import all the necessary packages."
   ]
  },
  {
   "cell_type": "code",
   "execution_count": 1,
   "metadata": {
    "deletable": false,
    "editable": false,
    "id": "KYbOPKRtfQOr"
   },
   "outputs": [],
   "source": [
    "import time\n",
    "from collections import deque, namedtuple\n",
    "\n",
    "import gym\n",
    "import numpy as np\n",
    "import PIL.Image\n",
    "import tensorflow as tf\n",
    "import utils\n",
    "\n",
    "from pyvirtualdisplay import Display\n",
    "from tensorflow.keras import Sequential\n",
    "from tensorflow.keras.layers import Dense, Input\n",
    "from tensorflow.keras.losses import MSE\n",
    "from tensorflow.keras.optimizers import Adam"
   ]
  },
  {
   "cell_type": "code",
   "execution_count": 2,
   "metadata": {
    "deletable": false,
    "editable": false
   },
   "outputs": [],
   "source": [
    "# Set up a virtual display to render the Lunar Lander environment.\n",
    "Display(visible=0, size=(840, 480)).start();\n",
    "\n",
    "# Set the random seed for TensorFlow\n",
    "tf.random.set_seed(utils.SEED)"
   ]
  },
  {
   "cell_type": "markdown",
   "metadata": {},
   "source": [
    "<a name=\"2\"></a>\n",
    "## 2 - Hyperparameters\n",
    "\n",
    "Run the cell below to set the hyperparameters."
   ]
  },
  {
   "cell_type": "code",
   "execution_count": 3,
   "metadata": {
    "deletable": false,
    "editable": false
   },
   "outputs": [],
   "source": [
    "MEMORY_SIZE = 100_000     # size of memory buffer\n",
    "GAMMA = 0.995             # discount factor\n",
    "ALPHA = 1e-3              # learning rate  \n",
    "NUM_STEPS_FOR_UPDATE = 4  # perform a learning update every C time steps"
   ]
  },
  {
   "cell_type": "markdown",
   "metadata": {},
   "source": [
    "<a name=\"3\"></a>\n",
    "## 3 - The Lunar Lander Environment\n",
    "\n",
    "In this notebook we will be using [OpenAI's Gym Library](https://www.gymlibrary.dev/). The Gym library provides a wide variety of environments for reinforcement learning. To put it simply, an environment represents a problem or task to be solved. In this notebook, we will try to solve the Lunar Lander environment using reinforcement learning.\n",
    "\n",
    "The goal of the Lunar Lander environment is to land the lunar lander safely on the landing pad on the surface of the moon. The landing pad is designated by two flag poles and its center is at coordinates `(0,0)` but the lander is also allowed to land outside of the landing pad. The lander starts at the top center of the environment with a random initial force applied to its center of mass and has infinite fuel. The environment is considered solved if you get `200` points. \n",
    "\n",
    "<br>\n",
    "<br>\n",
    "<figure>\n",
    "  <img src = \"images/lunar_lander.gif\" width = 40%>\n",
    "      <figcaption style = \"text-align: center; font-style: italic\">Fig 1. Lunar Lander Environment.</figcaption>\n",
    "</figure>\n",
    "\n",
    "\n",
    "\n",
    "<a name=\"3.1\"></a>\n",
    "### 3.1 Action Space\n",
    "\n",
    "The agent has four discrete actions available:\n",
    "\n",
    "* Do nothing.\n",
    "* Fire right engine.\n",
    "* Fire main engine.\n",
    "* Fire left engine.\n",
    "\n",
    "Each action has a corresponding numerical value:\n",
    "\n",
    "```python\n",
    "Do nothing = 0\n",
    "Fire right engine = 1\n",
    "Fire main engine = 2\n",
    "Fire left engine = 3\n",
    "```\n",
    "\n",
    "<a name=\"3.2\"></a>\n",
    "### 3.2 Observation Space\n",
    "\n",
    "The agent's observation space consists of a state vector with 8 variables:\n",
    "\n",
    "* Its $(x,y)$ coordinates. The landing pad is always at coordinates $(0,0)$.\n",
    "* Its linear velocities $(\\dot x,\\dot y)$.\n",
    "* Its angle $\\theta$.\n",
    "* Its angular velocity $\\dot \\theta$.\n",
    "* Two booleans, $l$ and $r$, that represent whether each leg is in contact with the ground or not.\n",
    "\n",
    "<a name=\"3.3\"></a>\n",
    "### 3.3 Rewards\n",
    "\n",
    "After every step, a reward is granted. The total reward of an episode is the sum of the rewards for all the steps within that episode.\n",
    "\n",
    "For each step, the reward:\n",
    "- is increased/decreased the closer/further the lander is to the landing pad.\n",
    "- is increased/decreased the slower/faster the lander is moving.\n",
    "- is decreased the more the lander is tilted (angle not horizontal).\n",
    "- is increased by 10 points for each leg that is in contact with the ground.\n",
    "- is decreased by 0.03 points each frame a side engine is firing.\n",
    "- is decreased by 0.3 points each frame the main engine is firing.\n",
    "\n",
    "The episode receives an additional reward of -100 or +100 points for crashing or landing safely respectively.\n",
    "\n",
    "<a name=\"3.4\"></a>\n",
    "### 3.4 Episode Termination\n",
    "\n",
    "An episode ends (i.e the environment enters a terminal state) if:\n",
    "\n",
    "* The lunar lander crashes (i.e if the body of the lunar lander comes in contact with the surface of the moon).\n",
    "\n",
    "* The absolute value of the lander's $x$-coordinate is greater than 1 (i.e. it goes beyond the left or right border)\n",
    "\n",
    "You can check out the [Open AI Gym documentation](https://www.gymlibrary.dev/environments/box2d/lunar_lander/) for a full description of the environment. "
   ]
  },
  {
   "cell_type": "markdown",
   "metadata": {},
   "source": [
    "<a name=\"4\"></a>\n",
    "## 4 - Load the Environment\n",
    "\n",
    "We start by loading the `LunarLander-v2` environment from the `gym` library by using the `.make()` method. `LunarLander-v2` is the latest version of the Lunar Lander environment and you can read about its version history in the [Open AI Gym documentation](https://www.gymlibrary.dev/environments/box2d/lunar_lander/#version-history)."
   ]
  },
  {
   "cell_type": "code",
   "execution_count": 4,
   "metadata": {
    "deletable": false,
    "editable": false,
    "id": "ILVMYKewfR0n"
   },
   "outputs": [],
   "source": [
    "env = gym.make('LunarLander-v2')"
   ]
  },
  {
   "cell_type": "markdown",
   "metadata": {},
   "source": [
    "Once we load the environment we use the `.reset()` method to reset the environment to the initial state. The lander starts at the top center of the environment and we can render the first frame of the environment by using the `.render()` method."
   ]
  },
  {
   "cell_type": "code",
   "execution_count": 7,
   "metadata": {
    "deletable": false,
    "editable": false
   },
   "outputs": [
    {
     "data": {
      "image/png": "[encoded data removed]",
      "text/plain": [
       "<PIL.Image.Image image mode=RGB size=600x400 at 0x76254A0C1850>"
      ]
     },
     "execution_count": 7,
     "metadata": {},
     "output_type": "execute_result"
    }
   ],
   "source": [
    "env.reset()\n",
    "PIL.Image.fromarray(env.render(mode='rgb_array'))"
   ]
  },
  {
   "cell_type": "markdown",
   "metadata": {},
   "source": [
    "In order to build our neural network later on we need to know the size of the state vector and the number of valid actions. We can get this information from our environment by using the `.observation_space.shape` and `action_space.n` methods, respectively."
   ]
  },
  {
   "cell_type": "code",
   "execution_count": 8,
   "metadata": {
    "deletable": false,
    "editable": false,
    "id": "x3fdqdG4CUu2"
   },
   "outputs": [
    {
     "name": "stdout",
     "output_type": "stream",
     "text": [
      "State Shape: (8,)\n",
      "Number of actions: 4\n"
     ]
    }
   ],
   "source": [
    "state_size = env.observation_space.shape\n",
    "num_actions = env.action_space.n\n",
    "\n",
    "print('State Shape:', state_size)\n",
    "print('Number of actions:', num_actions)"
   ]
  },
  {
   "cell_type": "markdown",
   "metadata": {},
   "source": [
    "<a name=\"5\"></a>\n",
    "## 5 - Interacting with the Gym Environment\n",
    "\n",
    "The Gym library implements the standard “agent-environment loop” formalism:\n",
    "\n",
    "<br>\n",
    "<center>\n",
    "<video src = \"./videos/rl_formalism.m4v\" width=\"840\" height=\"480\" controls autoplay loop poster=\"./images/rl_formalism.png\"> </video>\n",
    "<figcaption style = \"text-align:center; font-style:italic\">Fig 2. Agent-environment Loop Formalism.</figcaption>\n",
    "</center>\n",
    "<br>\n",
    "\n",
    "In the standard “agent-environment loop” formalism, an agent interacts with the environment in discrete time steps $t=0,1,2,...$. At each time step $t$, the agent uses a policy $\\pi$ to select an action $A_t$ based on its observation of the environment's state $S_t$. The agent receives a numerical reward $R_t$ and on the next time step, moves to a new state $S_{t+1}$.\n",
    "\n",
    "<a name=\"5.1\"></a>\n",
    "### 5.1 Exploring the Environment's Dynamics\n",
    "\n",
    "In Open AI's Gym environments, we use the `.step()` method to run a single time step of the environment's dynamics. In the version of `gym` that we are using the `.step()` method accepts an action and returns four values:\n",
    "\n",
    "* `observation` (**object**): an environment-specific object representing your observation of the environment. In the Lunar Lander environment this corresponds to a numpy array containing the positions and velocities of the lander as described in section [3.2 Observation Space](#3.2).\n",
    "\n",
    "\n",
    "* `reward` (**float**): amount of reward returned as a result of taking the given action. In the Lunar Lander environment this corresponds to a float of type `numpy.float64` as described in section [3.3 Rewards](#3.3).\n",
    "\n",
    "\n",
    "* `done` (**boolean**): When done is `True`, it indicates the episode has terminated and it’s time to reset the environment. \n",
    "\n",
    "\n",
    "* `info` (**dictionary**): diagnostic information useful for debugging. We won't be using this variable in this notebook but it is shown here for completeness.\n",
    "\n",
    "To begin an episode, we need to reset the environment to an initial state. We do this by using the `.reset()` method. "
   ]
  },
  {
   "cell_type": "code",
   "execution_count": 9,
   "metadata": {
    "deletable": false,
    "editable": false
   },
   "outputs": [],
   "source": [
    "# Reset the environment and get the initial state.\n",
    "current_state = env.reset()"
   ]
  },
  {
   "cell_type": "markdown",
   "metadata": {},
   "source": [
    "Once the environment is reset, the agent can start taking actions in the environment by using the `.step()` method. Note that the agent can only take one action per time step. \n",
    "\n",
    "In the cell below you can select different actions and see how the returned values change depending on the action taken. Remember that in this environment the agent has four discrete actions available and we specify them in code by using their corresponding numerical value:\n",
    "\n",
    "```python\n",
    "Do nothing = 0\n",
    "Fire right engine = 1\n",
    "Fire main engine = 2\n",
    "Fire left engine = 3\n",
    "```"
   ]
  },
  {
   "cell_type": "code",
   "execution_count": 10,
   "metadata": {
    "deletable": false
   },
   "outputs": [
    {
     "data": {
      "text/html": [
       "<style  type=\"text/css\" >\n",
       "    #T_31ff98ea_e254_11ef_8003_0242ac120044 th {\n",
       "          border: 1px solid grey;\n",
       "          text-align: center;\n",
       "    }    #T_31ff98ea_e254_11ef_8003_0242ac120044 tbody td {\n",
       "          border: 1px solid grey;\n",
       "          text-align: center;\n",
       "    }    #T_31ff98ea_e254_11ef_8003_0242ac120044row0_col0 {\n",
       "            background-color :  grey;\n",
       "        }    #T_31ff98ea_e254_11ef_8003_0242ac120044row1_col1 {\n",
       "            background-color :  grey;\n",
       "        }    #T_31ff98ea_e254_11ef_8003_0242ac120044row1_col2 {\n",
       "            background-color :  grey;\n",
       "        }    #T_31ff98ea_e254_11ef_8003_0242ac120044row1_col3 {\n",
       "            background-color :  grey;\n",
       "        }    #T_31ff98ea_e254_11ef_8003_0242ac120044row1_col4 {\n",
       "            background-color :  grey;\n",
       "        }    #T_31ff98ea_e254_11ef_8003_0242ac120044row1_col5 {\n",
       "            background-color :  grey;\n",
       "        }    #T_31ff98ea_e254_11ef_8003_0242ac120044row1_col6 {\n",
       "            background-color :  grey;\n",
       "        }    #T_31ff98ea_e254_11ef_8003_0242ac120044row1_col7 {\n",
       "            background-color :  grey;\n",
       "        }    #T_31ff98ea_e254_11ef_8003_0242ac120044row1_col8 {\n",
       "            background-color :  grey;\n",
       "        }    #T_31ff98ea_e254_11ef_8003_0242ac120044row1_col9 {\n",
       "            background-color :  grey;\n",
       "        }    #T_31ff98ea_e254_11ef_8003_0242ac120044row1_col10 {\n",
       "            background-color :  grey;\n",
       "        }    #T_31ff98ea_e254_11ef_8003_0242ac120044row1_col11 {\n",
       "            background-color :  grey;\n",
       "        }    #T_31ff98ea_e254_11ef_8003_0242ac120044row2_col0 {\n",
       "            background-color :  grey;\n",
       "        }    #T_31ff98ea_e254_11ef_8003_0242ac120044row3_col1 {\n",
       "            background-color :  grey;\n",
       "        }    #T_31ff98ea_e254_11ef_8003_0242ac120044row3_col2 {\n",
       "            background-color :  grey;\n",
       "        }    #T_31ff98ea_e254_11ef_8003_0242ac120044row3_col3 {\n",
       "            background-color :  grey;\n",
       "        }    #T_31ff98ea_e254_11ef_8003_0242ac120044row3_col4 {\n",
       "            background-color :  grey;\n",
       "        }    #T_31ff98ea_e254_11ef_8003_0242ac120044row3_col5 {\n",
       "            background-color :  grey;\n",
       "        }    #T_31ff98ea_e254_11ef_8003_0242ac120044row3_col6 {\n",
       "            background-color :  grey;\n",
       "        }    #T_31ff98ea_e254_11ef_8003_0242ac120044row3_col7 {\n",
       "            background-color :  grey;\n",
       "        }    #T_31ff98ea_e254_11ef_8003_0242ac120044row3_col8 {\n",
       "            background-color :  grey;\n",
       "        }    #T_31ff98ea_e254_11ef_8003_0242ac120044row3_col9 {\n",
       "            background-color :  grey;\n",
       "        }    #T_31ff98ea_e254_11ef_8003_0242ac120044row3_col10 {\n",
       "            background-color :  grey;\n",
       "        }    #T_31ff98ea_e254_11ef_8003_0242ac120044row3_col11 {\n",
       "            background-color :  grey;\n",
       "        }    #T_31ff98ea_e254_11ef_8003_0242ac120044row4_col1 {\n",
       "            background-color :  grey;\n",
       "        }    #T_31ff98ea_e254_11ef_8003_0242ac120044row4_col2 {\n",
       "            background-color :  grey;\n",
       "        }    #T_31ff98ea_e254_11ef_8003_0242ac120044row4_col3 {\n",
       "            background-color :  grey;\n",
       "        }    #T_31ff98ea_e254_11ef_8003_0242ac120044row4_col4 {\n",
       "            background-color :  grey;\n",
       "        }    #T_31ff98ea_e254_11ef_8003_0242ac120044row4_col5 {\n",
       "            background-color :  grey;\n",
       "        }    #T_31ff98ea_e254_11ef_8003_0242ac120044row4_col6 {\n",
       "            background-color :  grey;\n",
       "        }    #T_31ff98ea_e254_11ef_8003_0242ac120044row4_col7 {\n",
       "            background-color :  grey;\n",
       "        }    #T_31ff98ea_e254_11ef_8003_0242ac120044row4_col8 {\n",
       "            background-color :  grey;\n",
       "        }    #T_31ff98ea_e254_11ef_8003_0242ac120044row4_col9 {\n",
       "            background-color :  grey;\n",
       "        }    #T_31ff98ea_e254_11ef_8003_0242ac120044row4_col10 {\n",
       "            background-color :  grey;\n",
       "        }    #T_31ff98ea_e254_11ef_8003_0242ac120044row4_col11 {\n",
       "            background-color :  grey;\n",
       "        }</style><table id=\"T_31ff98ea_e254_11ef_8003_0242ac120044\" ><thead>    <tr>        <th class=\"blank level0\" ></th>        <th class=\"col_heading level0 col0\" ></th>        <th class=\"col_heading level0 col1\" colspan=8>State Vector</th>        <th class=\"col_heading level0 col9\" colspan=3>Derived from the State Vector (the closer to zero, the better)</th>    </tr>    <tr>        <th class=\"blank level1\" ></th>        <th class=\"col_heading level1 col0\" ></th>        <th class=\"col_heading level1 col1\" colspan=2>Coordinate</th>        <th class=\"col_heading level1 col3\" colspan=2>Velocity</th>        <th class=\"col_heading level1 col5\" colspan=2>Tilting</th>        <th class=\"col_heading level1 col7\" colspan=2>Ground contact</th>        <th class=\"col_heading level1 col9\" >Distance from landing pad</th>        <th class=\"col_heading level1 col10\" >Velocity</th>        <th class=\"col_heading level1 col11\" >Tilting Angle (absolute value)</th>    </tr>    <tr>        <th class=\"blank level2\" ></th>        <th class=\"col_heading level2 col0\" ></th>        <th class=\"col_heading level2 col1\" >X (Horizontal)</th>        <th class=\"col_heading level2 col2\" >Y (Vertical)</th>        <th class=\"col_heading level2 col3\" >X (Horizontal)</th>        <th class=\"col_heading level2 col4\" >Y (Vertical)</th>        <th class=\"col_heading level2 col5\" >Angle</th>        <th class=\"col_heading level2 col6\" >Angular Velocity</th>        <th class=\"col_heading level2 col7\" >Left Leg?</th>        <th class=\"col_heading level2 col8\" >Right Leg?</th>        <th class=\"col_heading level2 col9\" ></th>        <th class=\"col_heading level2 col10\" ></th>        <th class=\"col_heading level2 col11\" ></th>    </tr></thead><tbody>\n",
       "                <tr>\n",
       "                        <th id=\"T_31ff98ea_e254_11ef_8003_0242ac120044level0_row0\" class=\"row_heading level0 row0\" >Current State</th>\n",
       "                        <td id=\"T_31ff98ea_e254_11ef_8003_0242ac120044row0_col0\" class=\"data row0 col0\" ></td>\n",
       "                        <td id=\"T_31ff98ea_e254_11ef_8003_0242ac120044row0_col1\" class=\"data row0 col1\" >-0.007336</td>\n",
       "                        <td id=\"T_31ff98ea_e254_11ef_8003_0242ac120044row0_col2\" class=\"data row0 col2\" >1.415935</td>\n",
       "                        <td id=\"T_31ff98ea_e254_11ef_8003_0242ac120044row0_col3\" class=\"data row0 col3\" >-0.743049</td>\n",
       "                        <td id=\"T_31ff98ea_e254_11ef_8003_0242ac120044row0_col4\" class=\"data row0 col4\" >0.222858</td>\n",
       "                        <td id=\"T_31ff98ea_e254_11ef_8003_0242ac120044row0_col5\" class=\"data row0 col5\" >0.008507</td>\n",
       "                        <td id=\"T_31ff98ea_e254_11ef_8003_0242ac120044row0_col6\" class=\"data row0 col6\" >0.168312</td>\n",
       "                        <td id=\"T_31ff98ea_e254_11ef_8003_0242ac120044row0_col7\" class=\"data row0 col7\" >False</td>\n",
       "                        <td id=\"T_31ff98ea_e254_11ef_8003_0242ac120044row0_col8\" class=\"data row0 col8\" >False</td>\n",
       "                        <td id=\"T_31ff98ea_e254_11ef_8003_0242ac120044row0_col9\" class=\"data row0 col9\" >1.415954</td>\n",
       "                        <td id=\"T_31ff98ea_e254_11ef_8003_0242ac120044row0_col10\" class=\"data row0 col10\" >0.775750</td>\n",
       "                        <td id=\"T_31ff98ea_e254_11ef_8003_0242ac120044row0_col11\" class=\"data row0 col11\" >0.008507</td>\n",
       "            </tr>\n",
       "            <tr>\n",
       "                        <th id=\"T_31ff98ea_e254_11ef_8003_0242ac120044level0_row1\" class=\"row_heading level0 row1\" >Action</th>\n",
       "                        <td id=\"T_31ff98ea_e254_11ef_8003_0242ac120044row1_col0\" class=\"data row1 col0\" >Do nothing</td>\n",
       "                        <td id=\"T_31ff98ea_e254_11ef_8003_0242ac120044row1_col1\" class=\"data row1 col1\" ></td>\n",
       "                        <td id=\"T_31ff98ea_e254_11ef_8003_0242ac120044row1_col2\" class=\"data row1 col2\" ></td>\n",
       "                        <td id=\"T_31ff98ea_e254_11ef_8003_0242ac120044row1_col3\" class=\"data row1 col3\" ></td>\n",
       "                        <td id=\"T_31ff98ea_e254_11ef_8003_0242ac120044row1_col4\" class=\"data row1 col4\" ></td>\n",
       "                        <td id=\"T_31ff98ea_e254_11ef_8003_0242ac120044row1_col5\" class=\"data row1 col5\" ></td>\n",
       "                        <td id=\"T_31ff98ea_e254_11ef_8003_0242ac120044row1_col6\" class=\"data row1 col6\" ></td>\n",
       "                        <td id=\"T_31ff98ea_e254_11ef_8003_0242ac120044row1_col7\" class=\"data row1 col7\" ></td>\n",
       "                        <td id=\"T_31ff98ea_e254_11ef_8003_0242ac120044row1_col8\" class=\"data row1 col8\" ></td>\n",
       "                        <td id=\"T_31ff98ea_e254_11ef_8003_0242ac120044row1_col9\" class=\"data row1 col9\" ></td>\n",
       "                        <td id=\"T_31ff98ea_e254_11ef_8003_0242ac120044row1_col10\" class=\"data row1 col10\" ></td>\n",
       "                        <td id=\"T_31ff98ea_e254_11ef_8003_0242ac120044row1_col11\" class=\"data row1 col11\" ></td>\n",
       "            </tr>\n",
       "            <tr>\n",
       "                        <th id=\"T_31ff98ea_e254_11ef_8003_0242ac120044level0_row2\" class=\"row_heading level0 row2\" >Next State</th>\n",
       "                        <td id=\"T_31ff98ea_e254_11ef_8003_0242ac120044row2_col0\" class=\"data row2 col0\" ></td>\n",
       "                        <td id=\"T_31ff98ea_e254_11ef_8003_0242ac120044row2_col1\" class=\"data row2 col1\" >-0.014672</td>\n",
       "                        <td id=\"T_31ff98ea_e254_11ef_8003_0242ac120044row2_col2\" class=\"data row2 col2\" >1.420373</td>\n",
       "                        <td id=\"T_31ff98ea_e254_11ef_8003_0242ac120044row2_col3\" class=\"data row2 col3\" >-0.742044</td>\n",
       "                        <td id=\"T_31ff98ea_e254_11ef_8003_0242ac120044row2_col4\" class=\"data row2 col4\" >0.197159</td>\n",
       "                        <td id=\"T_31ff98ea_e254_11ef_8003_0242ac120044row2_col5\" class=\"data row2 col5\" >0.016824</td>\n",
       "                        <td id=\"T_31ff98ea_e254_11ef_8003_0242ac120044row2_col6\" class=\"data row2 col6\" >0.166356</td>\n",
       "                        <td id=\"T_31ff98ea_e254_11ef_8003_0242ac120044row2_col7\" class=\"data row2 col7\" >False</td>\n",
       "                        <td id=\"T_31ff98ea_e254_11ef_8003_0242ac120044row2_col8\" class=\"data row2 col8\" >False</td>\n",
       "                        <td id=\"T_31ff98ea_e254_11ef_8003_0242ac120044row2_col9\" class=\"data row2 col9\" >1.420449</td>\n",
       "                        <td id=\"T_31ff98ea_e254_11ef_8003_0242ac120044row2_col10\" class=\"data row2 col10\" >0.767790</td>\n",
       "                        <td id=\"T_31ff98ea_e254_11ef_8003_0242ac120044row2_col11\" class=\"data row2 col11\" >0.016824</td>\n",
       "            </tr>\n",
       "            <tr>\n",
       "                        <th id=\"T_31ff98ea_e254_11ef_8003_0242ac120044level0_row3\" class=\"row_heading level0 row3\" >Reward</th>\n",
       "                        <td id=\"T_31ff98ea_e254_11ef_8003_0242ac120044row3_col0\" class=\"data row3 col0\" >-0.485145</td>\n",
       "                        <td id=\"T_31ff98ea_e254_11ef_8003_0242ac120044row3_col1\" class=\"data row3 col1\" ></td>\n",
       "                        <td id=\"T_31ff98ea_e254_11ef_8003_0242ac120044row3_col2\" class=\"data row3 col2\" ></td>\n",
       "                        <td id=\"T_31ff98ea_e254_11ef_8003_0242ac120044row3_col3\" class=\"data row3 col3\" ></td>\n",
       "                        <td id=\"T_31ff98ea_e254_11ef_8003_0242ac120044row3_col4\" class=\"data row3 col4\" ></td>\n",
       "                        <td id=\"T_31ff98ea_e254_11ef_8003_0242ac120044row3_col5\" class=\"data row3 col5\" ></td>\n",
       "                        <td id=\"T_31ff98ea_e254_11ef_8003_0242ac120044row3_col6\" class=\"data row3 col6\" ></td>\n",
       "                        <td id=\"T_31ff98ea_e254_11ef_8003_0242ac120044row3_col7\" class=\"data row3 col7\" ></td>\n",
       "                        <td id=\"T_31ff98ea_e254_11ef_8003_0242ac120044row3_col8\" class=\"data row3 col8\" ></td>\n",
       "                        <td id=\"T_31ff98ea_e254_11ef_8003_0242ac120044row3_col9\" class=\"data row3 col9\" ></td>\n",
       "                        <td id=\"T_31ff98ea_e254_11ef_8003_0242ac120044row3_col10\" class=\"data row3 col10\" ></td>\n",
       "                        <td id=\"T_31ff98ea_e254_11ef_8003_0242ac120044row3_col11\" class=\"data row3 col11\" ></td>\n",
       "            </tr>\n",
       "            <tr>\n",
       "                        <th id=\"T_31ff98ea_e254_11ef_8003_0242ac120044level0_row4\" class=\"row_heading level0 row4\" >Episode Terminated</th>\n",
       "                        <td id=\"T_31ff98ea_e254_11ef_8003_0242ac120044row4_col0\" class=\"data row4 col0\" >False</td>\n",
       "                        <td id=\"T_31ff98ea_e254_11ef_8003_0242ac120044row4_col1\" class=\"data row4 col1\" ></td>\n",
       "                        <td id=\"T_31ff98ea_e254_11ef_8003_0242ac120044row4_col2\" class=\"data row4 col2\" ></td>\n",
       "                        <td id=\"T_31ff98ea_e254_11ef_8003_0242ac120044row4_col3\" class=\"data row4 col3\" ></td>\n",
       "                        <td id=\"T_31ff98ea_e254_11ef_8003_0242ac120044row4_col4\" class=\"data row4 col4\" ></td>\n",
       "                        <td id=\"T_31ff98ea_e254_11ef_8003_0242ac120044row4_col5\" class=\"data row4 col5\" ></td>\n",
       "                        <td id=\"T_31ff98ea_e254_11ef_8003_0242ac120044row4_col6\" class=\"data row4 col6\" ></td>\n",
       "                        <td id=\"T_31ff98ea_e254_11ef_8003_0242ac120044row4_col7\" class=\"data row4 col7\" ></td>\n",
       "                        <td id=\"T_31ff98ea_e254_11ef_8003_0242ac120044row4_col8\" class=\"data row4 col8\" ></td>\n",
       "                        <td id=\"T_31ff98ea_e254_11ef_8003_0242ac120044row4_col9\" class=\"data row4 col9\" ></td>\n",
       "                        <td id=\"T_31ff98ea_e254_11ef_8003_0242ac120044row4_col10\" class=\"data row4 col10\" ></td>\n",
       "                        <td id=\"T_31ff98ea_e254_11ef_8003_0242ac120044row4_col11\" class=\"data row4 col11\" ></td>\n",
       "            </tr>\n",
       "    </tbody></table>"
      ],
      "text/plain": [
       "<pandas.io.formats.style.Styler at 0x762549f9ba50>"
      ]
     },
     "metadata": {},
     "output_type": "display_data"
    }
   ],
   "source": [
    "# Select an action\n",
    "action = 0\n",
    "\n",
    "# Run a single time step of the environment's dynamics with the given action.\n",
    "next_state, reward, done, _ = env.step(action)\n",
    "\n",
    "# Display table with values.\n",
    "utils.display_table(current_state, action, next_state, reward, done)\n",
    "\n",
    "# Replace the `current_state` with the state after the action is taken\n",
    "current_state = next_state"
   ]
  },
  {
   "cell_type": "markdown",
   "metadata": {},
   "source": [
    "In practice, when we train the agent we use a loop to allow the agent to take many consecutive actions during an episode."
   ]
  },
  {
   "cell_type": "markdown",
   "metadata": {},
   "source": [
    "<a name=\"6\"></a>\n",
    "## 6 - Deep Q-Learning\n",
    "\n",
    "In cases where both the state and action space are discrete we can estimate the action-value function iteratively by using the Bellman equation:\n",
    "\n",
    "$$\n",
    "Q_{i+1}(s,a) = R + \\gamma \\max_{a'}Q_i(s',a')\n",
    "$$\n",
    "\n",
    "This iterative method converges to the optimal action-value function $Q^*(s,a)$ as $i\\to\\infty$. This means that the agent just needs to gradually explore the state-action space and keep updating the estimate of $Q(s,a)$ until it converges to the optimal action-value function $Q^*(s,a)$. However, in cases where the state space is continuous it becomes practically impossible to explore the entire state-action space. Consequently, this also makes it practically impossible to gradually estimate $Q(s,a)$ until it converges to $Q^*(s,a)$.\n",
    "\n",
    "In the Deep $Q$-Learning, we solve this problem by using a neural network to estimate the action-value function $Q(s,a)\\approx Q^*(s,a)$. We call this neural network a $Q$-Network and it can be trained by adjusting its weights at each iteration to minimize the mean-squared error in the Bellman equation.\n",
    "\n",
    "Unfortunately, using neural networks in reinforcement learning to estimate action-value functions has proven to be highly unstable. Luckily, there's a couple of techniques that can be employed to avoid instabilities. These techniques consist of using a ***Target Network*** and ***Experience Replay***. We will explore these two techniques in the following sections."
   ]
  },
  {
   "cell_type": "markdown",
   "metadata": {},
   "source": [
    "<a name=\"6.1\"></a>\n",
    "### 6.1 Target Network\n",
    "\n",
    "We can train the $Q$-Network by adjusting it's weights at each iteration to minimize the mean-squared error in the Bellman equation, where the target values are given by:\n",
    "\n",
    "$$\n",
    "y = R + \\gamma \\max_{a'}Q(s',a';w)\n",
    "$$\n",
    "\n",
    "where $w$ are the weights of the $Q$-Network. This means that we are adjusting the weights $w$ at each iteration to minimize the following error:\n",
    "\n",
    "$$\n",
    "\\overbrace{\\underbrace{R + \\gamma \\max_{a'}Q(s',a'; w)}_{\\rm {y~target}} - Q(s,a;w)}^{\\rm {Error}}\n",
    "$$\n",
    "\n",
    "Notice that this forms a problem because the $y$ target is changing on every iteration. Having a constantly moving target can lead to oscillations and instabilities. To avoid this, we can create\n",
    "a separate neural network for generating the $y$ targets. We call this separate neural network the **target $\\hat Q$-Network** and it will have the same architecture as the original $Q$-Network. By using the target $\\hat Q$-Network, the above error becomes:\n",
    "\n",
    "$$\n",
    "\\overbrace{\\underbrace{R + \\gamma \\max_{a'}\\hat{Q}(s',a'; w^-)}_{\\rm {y~target}} - Q(s,a;w)}^{\\rm {Error}}\n",
    "$$\n",
    "\n",
    "where $w^-$ and $w$ are the weights of the target $\\hat Q$-Network and $Q$-Network, respectively.\n",
    "\n",
    "In practice, we will use the following algorithm: every $C$ time steps we will use the $\\hat Q$-Network to generate the $y$ targets and update the weights of the target $\\hat Q$-Network using the weights of the $Q$-Network. We will update the weights $w^-$ of the the target $\\hat Q$-Network using a **soft update**. This means that we will update the weights $w^-$ using the following rule:\n",
    " \n",
    "$$\n",
    "w^-\\leftarrow \\tau w + (1 - \\tau) w^-\n",
    "$$\n",
    "\n",
    "where $\\tau\\ll 1$. By using the soft update, we are ensuring that the target values, $y$, change slowly, which greatly improves the stability of our learning algorithm."
   ]
  },
  {
   "cell_type": "markdown",
   "metadata": {},
   "source": [
    "<a name=\"ex01\"></a>\n",
    "### Exercise 1\n",
    "\n",
    "In this exercise you will create the $Q$ and target $\\hat Q$ networks and set the optimizer. Remember that the Deep $Q$-Network (DQN) is a neural network that approximates the action-value function $Q(s,a)\\approx Q^*(s,a)$. It does this by learning how to map states to $Q$ values.\n",
    "\n",
    "To solve the Lunar Lander environment, we are going to employ a DQN with the following architecture:\n",
    "\n",
    "* An `Input` layer that takes `state_size` as input.\n",
    "\n",
    "* A `Dense` layer with `64` units and a `relu` activation function.\n",
    "\n",
    "* A `Dense` layer with `64` units and a `relu` activation function.\n",
    "\n",
    "* A `Dense` layer with `num_actions` units and a `linear` activation function. This will be the output layer of our network.\n",
    "\n",
    "\n",
    "In the cell below you should create the $Q$-Network and the target $\\hat Q$-Network using the model architecture described above. Remember that both the $Q$-Network and the target $\\hat Q$-Network have the same architecture.\n",
    "\n",
    "Lastly, you should set `Adam` as the optimizer with a learning rate equal to `ALPHA`. Recall that `ALPHA` was defined in the [Hyperparameters](#2) section. We should note that for this exercise you should use the already imported packages:\n",
    "```python\n",
    "from tensorflow.keras.layers import Dense, Input\n",
    "from tensorflow.keras.optimizers import Adam\n",
    "```"
   ]
  },
  {
   "cell_type": "code",
   "execution_count": 23,
   "metadata": {
    "deletable": false
   },
   "outputs": [],
   "source": [
    "# UNQ_C1\n",
    "# GRADED CELL\n",
    "\n",
    "# Create the Q-Network\n",
    "q_network = Sequential([\n",
    "    Input(shape=state_size),                      \n",
    "    Dense(units=64, activation='relu'),            \n",
    "    Dense(units=64, activation='relu'),            \n",
    "    Dense(units=num_actions, activation='linear'),\n",
    "    ])\n",
    "\n",
    "# Create the target Q^-Network\n",
    "target_q_network = Sequential([\n",
    "    Input(shape=state_size),                       \n",
    "    Dense(units=64, activation='relu'),            \n",
    "    Dense(units=64, activation='relu'),            \n",
    "    Dense(units=num_actions, activation='linear'), \n",
    "    ])\n",
    "\n",
    "### START CODE HERE ### \n",
    "optimizer = Adam(learning_rate=ALPHA)\n",
    "### END CODE HERE ###"
   ]
  },
  {
   "cell_type": "code",
   "execution_count": 24,
   "metadata": {
    "deletable": false,
    "editable": false
   },
   "outputs": [
    {
     "name": "stdout",
     "output_type": "stream",
     "text": [
      "\u001b[92mAll tests passed!\n",
      "\u001b[92mAll tests passed!\n",
      "\u001b[92mAll tests passed!\n"
     ]
    }
   ],
   "source": [
    "# UNIT TEST\n",
    "from public_tests import *\n",
    "\n",
    "test_network(q_network)\n",
    "test_network(target_q_network)\n",
    "test_optimizer(optimizer, ALPHA) "
   ]
  },
  {
   "cell_type": "markdown",
   "metadata": {},
   "source": [
    "<details>\n",
    "  <summary><font size=\"3\" color=\"darkgreen\"><b>Click for hints</b></font></summary>\n",
    "    \n",
    "```python\n",
    "# Create the Q-Network\n",
    "q_network = Sequential([\n",
    "    Input(shape=state_size),                      \n",
    "    Dense(units=64, activation='relu'),            \n",
    "    Dense(units=64, activation='relu'),            \n",
    "    Dense(units=num_actions, activation='linear'),\n",
    "    ])\n",
    "\n",
    "# Create the target Q^-Network\n",
    "target_q_network = Sequential([\n",
    "    Input(shape=state_size),                       \n",
    "    Dense(units=64, activation='relu'),            \n",
    "    Dense(units=64, activation='relu'),            \n",
    "    Dense(units=num_actions, activation='linear'), \n",
    "    ])\n",
    "\n",
    "optimizer = Adam(learning_rate=ALPHA)                                  \n",
    "``` "
   ]
  },
  {
   "cell_type": "markdown",
   "metadata": {},
   "source": [
    "<a name=\"6.2\"></a>\n",
    "### 6.2 Experience Replay\n",
    "\n",
    "When an agent interacts with the environment, the states, actions, and rewards the agent experiences are sequential by nature. If the agent tries to learn from these consecutive experiences it can run into problems due to the strong correlations between them. To avoid this, we employ a technique known as **Experience Replay** to generate uncorrelated experiences for training our agent. Experience replay consists of storing the agent's experiences (i.e the states, actions, and rewards the agent receives) in a memory buffer and then sampling a random mini-batch of experiences from the buffer to do the learning. The experience tuples $(S_t, A_t, R_t, S_{t+1})$ will be added to the memory buffer at each time step as the agent interacts with the environment.\n",
    "\n",
    "For convenience, we will store the experiences as named tuples."
   ]
  },
  {
   "cell_type": "code",
   "execution_count": 25,
   "metadata": {
    "deletable": false,
    "editable": false
   },
   "outputs": [],
   "source": [
    "# Store experiences as named tuples\n",
    "experience = namedtuple(\"Experience\", field_names=[\"state\", \"action\", \"reward\", \"next_state\", \"done\"])"
   ]
  },
  {
   "cell_type": "markdown",
   "metadata": {},
   "source": [
    "By using experience replay we avoid problematic correlations, oscillations and instabilities. In addition, experience replay also allows the agent to potentially use the same experience in multiple weight updates, which increases data efficiency."
   ]
  },
  {
   "cell_type": "markdown",
   "metadata": {},
   "source": [
    "<a name=\"7\"></a>\n",
    "## 7 - Deep Q-Learning Algorithm with Experience Replay\n",
    "\n",
    "Now that we know all the techniques that we are going to use, we can put them together to arrive at the Deep Q-Learning Algorithm With Experience Replay.\n",
    "<br>\n",
    "<br>\n",
    "<figure>\n",
    "  <img src = \"images/deep_q_algorithm.png\" width = 90% style = \"border: thin silver solid; padding: 0px\">\n",
    "      <figcaption style = \"text-align: center; font-style: italic\">Fig 3. Deep Q-Learning with Experience Replay.</figcaption>\n",
    "</figure>"
   ]
  },
  {
   "cell_type": "markdown",
   "metadata": {},
   "source": [
    "<a name=\"ex02\"></a>\n",
    "### Exercise 2\n",
    "\n",
    "In this exercise you will implement line ***12*** of the algorithm outlined in *Fig 3* above and you will also compute the loss between the $y$ targets and the $Q(s,a)$ values. In the cell below, complete the `compute_loss` function by setting the $y$ targets equal to:\n",
    "\n",
    "$$\n",
    "\\begin{equation}\n",
    "    y_j =\n",
    "    \\begin{cases}\n",
    "      R_j & \\text{if episode terminates at step  } j+1\\\\\n",
    "      R_j + \\gamma \\max_{a'}\\hat{Q}(s_{j+1},a') & \\text{otherwise}\\\\\n",
    "    \\end{cases}       \n",
    "\\end{equation}\n",
    "$$\n",
    "\n",
    "Here are a couple of things to note:\n",
    "\n",
    "* The `compute_loss` function takes in a mini-batch of experience tuples. This mini-batch of experience tuples is unpacked to extract the `states`, `actions`, `rewards`, `next_states`, and `done_vals`. You should keep in mind that these variables are *TensorFlow Tensors* whose size will depend on the mini-batch size. For example, if the mini-batch size is `64` then both `rewards` and `done_vals` will be TensorFlow Tensors with `64` elements.\n",
    "\n",
    "\n",
    "* Using `if/else` statements to set the $y$ targets will not work when the variables are tensors with many elements. However, notice that you can use the `done_vals` to implement the above in a single line of code. To do this, recall that the `done` variable is a Boolean variable that takes the value `True` when an episode terminates at step $j+1$ and it is `False` otherwise. Taking into account that a Boolean value of `True` has the numerical value of `1` and a Boolean value of `False` has the numerical value of `0`, you can use the factor `(1 - done_vals)` to implement the above in a single line of code. Here's a hint: notice that `(1 - done_vals)` has a value of `0` when `done_vals` is `True` and a value of `1` when `done_vals` is `False`. \n",
    "\n",
    "Lastly, compute the loss by calculating the Mean-Squared Error (`MSE`) between the `y_targets` and the `q_values`. To calculate the mean-squared error you should use the already imported package `MSE`:\n",
    "```python\n",
    "from tensorflow.keras.losses import MSE\n",
    "```"
   ]
  },
  {
   "cell_type": "code",
   "execution_count": 27,
   "metadata": {
    "deletable": false
   },
   "outputs": [],
   "source": [
    "# UNQ_C2\n",
    "# GRADED FUNCTION: calculate_loss\n",
    "\n",
    "def compute_loss(experiences, gamma, q_network, target_q_network):\n",
    "    \"\"\" \n",
    "    Calculates the loss.\n",
    "    \n",
    "    Args:\n",
    "      experiences: (tuple) tuple of [\"state\", \"action\", \"reward\", \"next_state\", \"done\"] namedtuples\n",
    "      gamma: (float) The discount factor.\n",
    "      q_network: (tf.keras.Sequential) Keras model for predicting the q_values\n",
    "      target_q_network: (tf.keras.Sequential) Keras model for predicting the targets\n",
    "          \n",
    "    Returns:\n",
    "      loss: (TensorFlow Tensor(shape=(0,), dtype=int32)) the Mean-Squared Error between\n",
    "            the y targets and the Q(s,a) values.\n",
    "    \"\"\"\n",
    "\n",
    "    # Unpack the mini-batch of experience tuples\n",
    "    states, actions, rewards, next_states, done_vals = experiences\n",
    "    \n",
    "    # Compute max Q^(s,a)\n",
    "    max_qsa = tf.reduce_max(target_q_network(next_states), axis=-1)\n",
    "    \n",
    "    # Set y = R if episode terminates, otherwise set y = R + γ max Q^(s,a).\n",
    "    ### START CODE HERE ### \n",
    "    y_targets = rewards+ (gamma*max_qsa*(1-done_vals))\n",
    "    ### END CODE HERE ###\n",
    "    \n",
    "    # Get the q_values and reshape to match y_targets\n",
    "    q_values = q_network(states)\n",
    "    q_values = tf.gather_nd(q_values, tf.stack([tf.range(q_values.shape[0]),\n",
    "                                                tf.cast(actions, tf.int32)], axis=1))\n",
    "        \n",
    "    # Compute the loss\n",
    "    ### START CODE HERE ### \n",
    "    loss = MSE(y_targets, q_values)\n",
    "    ### END CODE HERE ### \n",
    "    \n",
    "    return loss"
   ]
  },
  {
   "cell_type": "code",
   "execution_count": 28,
   "metadata": {
    "deletable": false,
    "editable": false
   },
   "outputs": [
    {
     "name": "stdout",
     "output_type": "stream",
     "text": [
      "\u001b[92mAll tests passed!\n"
     ]
    }
   ],
   "source": [
    "# UNIT TEST    \n",
    "test_compute_loss(compute_loss)"
   ]
  },
  {
   "cell_type": "markdown",
   "metadata": {},
   "source": [
    "<details>\n",
    "  <summary><font size=\"3\" color=\"darkgreen\"><b>Click for hints</b></font></summary>\n",
    "    \n",
    "```python\n",
    "def compute_loss(experiences, gamma, q_network, target_q_network):\n",
    "    \"\"\" \n",
    "    Calculates the loss.\n",
    "    \n",
    "    Args:\n",
    "      experiences: (tuple) tuple of [\"state\", \"action\", \"reward\", \"next_state\", \"done\"] namedtuples\n",
    "      gamma: (float) The discount factor.\n",
    "      q_network: (tf.keras.Sequential) Keras model for predicting the q_values\n",
    "      target_q_network: (tf.keras.Sequential) Keras model for predicting the targets\n",
    "          \n",
    "    Returns:\n",
    "      loss: (TensorFlow Tensor(shape=(0,), dtype=int32)) the Mean-Squared Error between\n",
    "            the y targets and the Q(s,a) values.\n",
    "    \"\"\"\n",
    "\n",
    "    \n",
    "    # Unpack the mini-batch of experience tuples\n",
    "    states, actions, rewards, next_states, done_vals = experiences\n",
    "    \n",
    "    # Compute max Q^(s,a)\n",
    "    max_qsa = tf.reduce_max(target_q_network(next_states), axis=-1)\n",
    "    \n",
    "    # Set y = R if episode terminates, otherwise set y = R + γ max Q^(s,a).\n",
    "    y_targets = rewards + (gamma * max_qsa * (1 - done_vals))\n",
    "    \n",
    "    # Get the q_values\n",
    "    q_values = q_network(states)\n",
    "    q_values = tf.gather_nd(q_values, tf.stack([tf.range(q_values.shape[0]),\n",
    "                                                tf.cast(actions, tf.int32)], axis=1))\n",
    "    \n",
    "    # Calculate the loss\n",
    "    loss = MSE(y_targets, q_values)\n",
    "    \n",
    "    return loss\n",
    "\n",
    "``` \n",
    "    "
   ]
  },
  {
   "cell_type": "markdown",
   "metadata": {},
   "source": [
    "<a name=\"8\"></a>\n",
    "## 8 - Update the Network Weights\n",
    "\n",
    "We will use the `agent_learn` function below to implement lines ***12 -14*** of the algorithm outlined in [Fig 3](#7). The `agent_learn` function will update the weights of the $Q$ and target $\\hat Q$ networks using a custom training loop. Because we are using a custom training loop we need to retrieve the gradients via a `tf.GradientTape` instance, and then call `optimizer.apply_gradients()` to update the weights of our $Q$-Network. Note that we are also using the `@tf.function` decorator to increase performance. Without this decorator our training will take twice as long. If you would like to know more about how to increase performance with `@tf.function` take a look at the [TensorFlow documentation](https://www.tensorflow.org/guide/function).\n",
    "\n",
    "The last line of this function updates the weights of the target $\\hat Q$-Network using a [soft update](#6.1). If you want to know how this is implemented in code we encourage you to take a look at the `utils.update_target_network` function in the `utils` module."
   ]
  },
  {
   "cell_type": "code",
   "execution_count": 29,
   "metadata": {
    "deletable": false,
    "editable": false
   },
   "outputs": [],
   "source": [
    "@tf.function\n",
    "def agent_learn(experiences, gamma):\n",
    "    \"\"\"\n",
    "    Updates the weights of the Q networks.\n",
    "    \n",
    "    Args:\n",
    "      experiences: (tuple) tuple of [\"state\", \"action\", \"reward\", \"next_state\", \"done\"] namedtuples\n",
    "      gamma: (float) The discount factor.\n",
    "    \n",
    "    \"\"\"\n",
    "    \n",
    "    # Calculate the loss\n",
    "    with tf.GradientTape() as tape:\n",
    "        loss = compute_loss(experiences, gamma, q_network, target_q_network)\n",
    "\n",
    "    # Get the gradients of the loss with respect to the weights.\n",
    "    gradients = tape.gradient(loss, q_network.trainable_variables)\n",
    "    \n",
    "    # Update the weights of the q_network.\n",
    "    optimizer.apply_gradients(zip(gradients, q_network.trainable_variables))\n",
    "\n",
    "    # update the weights of target q_network\n",
    "    utils.update_target_network(q_network, target_q_network)"
   ]
  },
  {
   "cell_type": "markdown",
   "metadata": {},
   "source": [
    "<a name=\"9\"></a>\n",
    "## 9 - Train the Agent\n",
    "\n",
    "We are now ready to train our agent to solve the Lunar Lander environment. In the cell below we will implement the algorithm in [Fig 3](#7) line by line (please note that we have included the same algorithm below for easy reference. This will prevent you from scrolling up and down the notebook):\n",
    "\n",
    "* **Line 1**: We initialize the `memory_buffer` with a capacity of $N =$ `MEMORY_SIZE`. Notice that we are using a `deque` as the data structure for our `memory_buffer`.\n",
    "\n",
    "\n",
    "* **Line 2**: We skip this line since we already initialized the `q_network` in [Exercise 1](#ex01).\n",
    "\n",
    "\n",
    "* **Line 3**: We initialize the `target_q_network` by setting its weights to be equal to those of the `q_network`.\n",
    "\n",
    "\n",
    "* **Line 4**: We start the outer loop. Notice that we have set $M =$ `num_episodes = 2000`. This number is reasonable because the agent should be able to solve the Lunar Lander environment in less than `2000` episodes using this notebook's default parameters.\n",
    "\n",
    "\n",
    "* **Line 5**: We use the `.reset()` method to reset the environment to the initial state and get the initial state.\n",
    "\n",
    "\n",
    "* **Line 6**: We start the inner loop. Notice that we have set $T =$ `max_num_timesteps = 1000`. This means that the episode will automatically terminate if the episode hasn't terminated after `1000` time steps.\n",
    "\n",
    "\n",
    "* **Line 7**: The agent observes the current `state` and chooses an `action` using an $\\epsilon$-greedy policy. Our agent starts out using a value of $\\epsilon =$ `epsilon = 1` which yields an $\\epsilon$-greedy policy that is equivalent to the equiprobable random policy. This means that at the beginning of our training, the agent is just going to take random actions regardless of the observed `state`. As training progresses we will decrease the value of $\\epsilon$ slowly towards a minimum value using a given $\\epsilon$-decay rate. We want this minimum value to be close to zero because a value of $\\epsilon = 0$ will yield an $\\epsilon$-greedy policy that is equivalent to the greedy policy. This means that towards the end of training, the agent will lean towards selecting the `action` that it believes (based on its past experiences) will maximize $Q(s,a)$. We will set the minimum $\\epsilon$ value to be `0.01` and not exactly 0 because we always want to keep a little bit of exploration during training. If you want to know how this is implemented in code we encourage you to take a look at the `utils.get_action` function in the `utils` module.\n",
    "\n",
    "\n",
    "* **Line 8**: We use the `.step()` method to take the given `action` in the environment and get the `reward` and the `next_state`. \n",
    "\n",
    "\n",
    "* **Line 9**: We store the `experience(state, action, reward, next_state, done)` tuple in our `memory_buffer`. Notice that we also store the `done` variable so that we can keep track of when an episode terminates. This allowed us to set the $y$ targets in [Exercise 2](#ex02).\n",
    "\n",
    "\n",
    "* **Line 10**: We check if the conditions are met to perform a learning update. We do this by using our custom `utils.check_update_conditions` function. This function checks if $C =$ `NUM_STEPS_FOR_UPDATE = 4` time steps have occured and if our `memory_buffer` has enough experience tuples to fill a mini-batch. For example, if the mini-batch size is `64`, then our `memory_buffer` should have more than `64` experience tuples in order to pass the latter condition. If the conditions are met, then the `utils.check_update_conditions` function will return a value of `True`, otherwise it will return a value of `False`.\n",
    "\n",
    "\n",
    "* **Lines 11 - 14**: If the `update` variable is `True` then we perform a learning update. The learning update consists of sampling a random mini-batch of experience tuples from our `memory_buffer`, setting the $y$ targets, performing gradient descent, and updating the weights of the networks. We will use the `agent_learn` function we defined in [Section 8](#8) to perform the latter 3.\n",
    "\n",
    "\n",
    "* **Line 15**: At the end of each iteration of the inner loop we set `next_state` as our new `state` so that the loop can start again from this new state. In addition, we check if the episode has reached a terminal state (i.e we check if `done = True`). If a terminal state has been reached, then we break out of the inner loop.\n",
    "\n",
    "\n",
    "* **Line 16**: At the end of each iteration of the outer loop we update the value of $\\epsilon$, and check if the environment has been solved. We consider that the environment has been solved if the agent receives an average of `200` points in the last `100` episodes. If the environment has not been solved we continue the outer loop and start a new episode.\n",
    "\n",
    "Finally, we wanted to note that we have included some extra variables to keep track of the total number of points the agent received in each episode. This will help us determine if the agent has solved the environment and it will also allow us to see how our agent performed during training. We also use the `time` module to measure how long the training takes. \n",
    "\n",
    "<br>\n",
    "<br>\n",
    "<figure>\n",
    "  <img src = \"images/deep_q_algorithm.png\" width = 90% style = \"border: thin silver solid; padding: 0px\">\n",
    "      <figcaption style = \"text-align: center; font-style: italic\">Fig 4. Deep Q-Learning with Experience Replay.</figcaption>\n",
    "</figure>\n",
    "<br>\n",
    "\n",
    "**Note:** With this notebook's default parameters, the following cell takes between 10 to 15 minutes to run. "
   ]
  },
  {
   "cell_type": "code",
   "execution_count": 30,
   "metadata": {
    "deletable": false,
    "editable": false
   },
   "outputs": [
    {
     "name": "stdout",
     "output_type": "stream",
     "text": [
      "Episode 100 | Total point average of the last 100 episodes: -159.66\n",
      "Episode 200 | Total point average of the last 100 episodes: -96.240\n",
      "Episode 300 | Total point average of the last 100 episodes: -34.46\n",
      "Episode 400 | Total point average of the last 100 episodes: 22.747\n",
      "Episode 500 | Total point average of the last 100 episodes: 156.26\n",
      "Episode 600 | Total point average of the last 100 episodes: 166.60\n",
      "Episode 700 | Total point average of the last 100 episodes: 143.33\n",
      "Episode 777 | Total point average of the last 100 episodes: 201.35\n",
      "\n",
      "Environment solved in 777 episodes!\n",
      "\n",
      "Total Runtime: 1028.93 s (17.15 min)\n"
     ]
    }
   ],
   "source": [
    "start = time.time()\n",
    "\n",
    "num_episodes = 2000\n",
    "max_num_timesteps = 1000\n",
    "\n",
    "total_point_history = []\n",
    "\n",
    "num_p_av = 100    # number of total points to use for averaging\n",
    "epsilon = 1.0     # initial ε value for ε-greedy policy\n",
    "\n",
    "# Create a memory buffer D with capacity N\n",
    "memory_buffer = deque(maxlen=MEMORY_SIZE)\n",
    "\n",
    "# Set the target network weights equal to the Q-Network weights\n",
    "target_q_network.set_weights(q_network.get_weights())\n",
    "\n",
    "for i in range(num_episodes):\n",
    "    \n",
    "    # Reset the environment to the initial state and get the initial state\n",
    "    state = env.reset()\n",
    "    total_points = 0\n",
    "    \n",
    "    for t in range(max_num_timesteps):\n",
    "        \n",
    "        # From the current state S choose an action A using an ε-greedy policy\n",
    "        state_qn = np.expand_dims(state, axis=0)  # state needs to be the right shape for the q_network\n",
    "        q_values = q_network(state_qn)\n",
    "        action = utils.get_action(q_values, epsilon)\n",
    "        \n",
    "        # Take action A and receive reward R and the next state S'\n",
    "        next_state, reward, done, _ = env.step(action)\n",
    "        \n",
    "        # Store experience tuple (S,A,R,S') in the memory buffer.\n",
    "        # We store the done variable as well for convenience.\n",
    "        memory_buffer.append(experience(state, action, reward, next_state, done))\n",
    "        \n",
    "        # Only update the network every NUM_STEPS_FOR_UPDATE time steps.\n",
    "        update = utils.check_update_conditions(t, NUM_STEPS_FOR_UPDATE, memory_buffer)\n",
    "        \n",
    "        if update:\n",
    "            # Sample random mini-batch of experience tuples (S,A,R,S') from D\n",
    "            experiences = utils.get_experiences(memory_buffer)\n",
    "            \n",
    "            # Set the y targets, perform a gradient descent step,\n",
    "            # and update the network weights.\n",
    "            agent_learn(experiences, GAMMA)\n",
    "        \n",
    "        state = next_state.copy()\n",
    "        total_points += reward\n",
    "        \n",
    "        if done:\n",
    "            break\n",
    "            \n",
    "    total_point_history.append(total_points)\n",
    "    av_latest_points = np.mean(total_point_history[-num_p_av:])\n",
    "    \n",
    "    # Update the ε value\n",
    "    epsilon = utils.get_new_eps(epsilon)\n",
    "\n",
    "    print(f\"\\rEpisode {i+1} | Total point average of the last {num_p_av} episodes: {av_latest_points:.2f}\", end=\"\")\n",
    "\n",
    "    if (i+1) % num_p_av == 0:\n",
    "        print(f\"\\rEpisode {i+1} | Total point average of the last {num_p_av} episodes: {av_latest_points:.2f}\")\n",
    "\n",
    "    # We will consider that the environment is solved if we get an\n",
    "    # average of 200 points in the last 100 episodes.\n",
    "    if av_latest_points >= 200.0:\n",
    "        print(f\"\\n\\nEnvironment solved in {i+1} episodes!\")\n",
    "        q_network.save('lunar_lander_model.h5')\n",
    "        break\n",
    "        \n",
    "tot_time = time.time() - start\n",
    "\n",
    "print(f\"\\nTotal Runtime: {tot_time:.2f} s ({(tot_time/60):.2f} min)\")"
   ]
  },
  {
   "cell_type": "markdown",
   "metadata": {},
   "source": [
    "We can plot the total point history along with the moving average to see how our agent improved during training. If you want to know about the different plotting options available in the `utils.plot_history` function we encourage you to take a look at the `utils` module."
   ]
  },
  {
   "cell_type": "code",
   "execution_count": 31,
   "metadata": {
    "deletable": false,
    "editable": false,
    "id": "E_EUXxurfe8m",
    "scrolled": false
   },
   "outputs": [
    {
     "data": {
      "image/png": "[encoded data removed]",
      "text/plain": [
       "<Figure size 720x504 with 1 Axes>"
      ]
     },
     "metadata": {},
     "output_type": "display_data"
    }
   ],
   "source": [
    "# Plot the total point history along with the moving average\n",
    "utils.plot_history(total_point_history)"
   ]
  },
  {
   "cell_type": "markdown",
   "metadata": {
    "id": "c_xwgaX5MnYt"
   },
   "source": [
    "<a name=\"10\"></a>\n",
    "## 10 - See the Trained Agent In Action\n",
    "\n",
    "Now that we have trained our agent, we can see it in action. We will use the `utils.create_video` function to create a video of our agent interacting with the environment using the trained $Q$-Network. The `utils.create_video` function uses the `imageio` library to create the video. This library produces some warnings that can be distracting, so, to suppress these warnings we run the code below."
   ]
  },
  {
   "cell_type": "code",
   "execution_count": 32,
   "metadata": {
    "deletable": false,
    "editable": false
   },
   "outputs": [],
   "source": [
    "# Suppress warnings from imageio\n",
    "import logging\n",
    "logging.getLogger().setLevel(logging.ERROR)"
   ]
  },
  {
   "cell_type": "markdown",
   "metadata": {},
   "source": [
    "In the cell below we create a video of our agent interacting with the Lunar Lander environment using the trained `q_network`. The video is saved to the `videos` folder with the given `filename`. We use the `utils.embed_mp4` function to embed the video in the Jupyter Notebook so that we can see it here directly without having to download it.\n",
    "\n",
    "We should note that since the lunar lander starts with a random initial force applied to its center of mass, every time you run the cell below you will see a different video. If the agent was trained properly, it should be able to land the lunar lander in the landing pad every time, regardless of the initial force applied to its center of mass."
   ]
  },
  {
   "cell_type": "code",
   "execution_count": 33,
   "metadata": {
    "deletable": false,
    "editable": false,
    "id": "3Ttb_zLeJKiG"
   },
   "outputs": [
    {
     "data": {
      "text/html": [
       "\n",
       "    <video width=\"840\" height=\"480\" controls>\n",
       "    <source src=\"data:video/mp4;base64,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\" type=\"video/mp4\">\n",
       "    Your browser does not support the video tag.\n",
       "    </video>"
      ],
      "text/plain": [
       "<IPython.core.display.HTML object>"
      ]
     },
     "execution_count": 33,
     "metadata": {},
     "output_type": "execute_result"
    }
   ],
   "source": [
    "filename = \"./videos/lunar_lander.mp4\"\n",
    "\n",
    "utils.create_video(filename, env, q_network)\n",
    "utils.embed_mp4(filename)"
   ]
  },
  {
   "cell_type": "markdown",
   "metadata": {},
   "source": [
    "<a name=\"11\"></a>\n",
    "## 11 - Congratulations!\n",
    "\n",
    "You have successfully used Deep Q-Learning with Experience Replay to train an agent to land a lunar lander safely on a landing pad on the surface of the moon. Congratulations!"
   ]
  },
  {
   "cell_type": "markdown",
   "metadata": {},
   "source": [
    "<a name=\"12\"></a>\n",
    "## 12 - References\n",
    "\n",
    "If you would like to learn more about Deep Q-Learning, we recommend you check out the following papers.\n",
    "\n",
    "\n",
    "* Mnih, V., Kavukcuoglu, K., Silver, D. et al. Human-level control through deep reinforcement learning. Nature 518, 529–533 (2015).\n",
    "\n",
    "\n",
    "* Lillicrap, T. P., Hunt, J. J., Pritzel, A., et al. Continuous Control with Deep Reinforcement Learning. ICLR (2016).\n",
    "\n",
    "\n",
    "* Mnih, V., Kavukcuoglu, K., Silver, D. et al. Playing Atari with Deep Reinforcement Learning. arXiv e-prints.  arXiv:1312.5602 (2013)."
   ]
  },
  {
   "cell_type": "markdown",
   "metadata": {},
   "source": [
    "<details>\n",
    "  <summary><font size=\"2\" color=\"darkgreen\"><b>Please click here if you want to experiment with any of the non-graded code.</b></font></summary>\n",
    "    <p><i><b>Important Note: Please only do this when you've already passed the assignment to avoid problems with the autograder.</b></i>\n",
    "    <ol>\n",
    "        <li> On the notebook’s menu, click “View” > “Cell Toolbar” > “Edit Metadata”</li>\n",
    "        <li> Hit the “Edit Metadata” button next to the code cell which you want to lock/unlock</li>\n",
    "        <li> Set the attribute value for “editable” to:\n",
    "            <ul>\n",
    "                <li> “true” if you want to unlock it </li>\n",
    "                <li> “false” if you want to lock it </li>\n",
    "            </ul>\n",
    "        </li>\n",
    "        <li> On the notebook’s menu, click “View” > “Cell Toolbar” > “None” </li>\n",
    "    </ol>\n",
    "    <p> Here's a short demo of how to do the steps above: \n",
    "        <br>\n",
    "        <img src=\"https://lh3.google.com/u/0/d/14Xy_Mb17CZVgzVAgq7NCjMVBvSae3xO1\" align=\"center\" alt=\"unlock_cells.gif\">\n",
    "</details>"
   ]
  }
 ],
 "metadata": {
  "accelerator": "GPU",
  "colab": {
   "collapsed_sections": [],
   "name": "TensorFlow - Lunar Lander.ipynb",
   "provenance": []
  },
  "kernelspec": {
   "display_name": "Python 3",
   "language": "python",
   "name": "python3"
  },
  "language_info": {
   "codemirror_mode": {
    "name": "ipython",
    "version": 3
   },
   "file_extension": ".py",
   "mimetype": "text/x-python",
   "name": "python",
   "nbconvert_exporter": "python",
   "pygments_lexer": "ipython3",
   "version": "3.7.6"
  }
 },
 "nbformat": 4,
 "nbformat_minor": 1
}
